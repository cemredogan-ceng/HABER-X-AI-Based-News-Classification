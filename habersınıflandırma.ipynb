{
  "nbformat": 4,
  "nbformat_minor": 0,
  "metadata": {
    "colab": {
      "provenance": [],
      "authorship_tag": "ABX9TyOh/Zmxx989syyQZj9Qb0/i",
      "include_colab_link": true
    },
    "kernelspec": {
      "name": "python3",
      "display_name": "Python 3"
    },
    "language_info": {
      "name": "python"
    }
  },
  "cells": [
    {
      "cell_type": "markdown",
      "metadata": {
        "id": "view-in-github",
        "colab_type": "text"
      },
      "source": [
        "<a href=\"https://colab.research.google.com/github/cemredogan-ceng/HABER-X-AI-Based-News-Classification/blob/main/habers%C4%B1n%C4%B1fland%C4%B1rma.ipynb\" target=\"_parent\"><img src=\"https://colab.research.google.com/assets/colab-badge.svg\" alt=\"Open In Colab\"/></a>"
      ]
    },
    {
      "cell_type": "code",
      "execution_count": null,
      "metadata": {
        "id": "97WXPNwkbYz8"
      },
      "outputs": [],
      "source": []
    },
    {
      "cell_type": "code",
      "source": [
        "# Gerekli kütüphaneleri yükleyin\n",
        "!pip install transformers simpletransformers pandas scikit-learn imblearn gradio\n",
        "\n",
        "import pandas as pd\n",
        "from sklearn.model_selection import train_test_split\n",
        "from simpletransformers.classification import ClassificationModel\n",
        "from sklearn.metrics import classification_report, accuracy_score\n",
        "from sklearn.feature_extraction.text import TfidfVectorizer\n",
        "from imblearn.over_sampling import SMOTE\n",
        "import gradio as gr\n",
        "\n",
        "# Veriyi yükleyin ve inceleyin\n",
        "data_path = \"metin_verileri.xlsx\"\n",
        "data = pd.read_excel(data_path)\n",
        "data = data.rename(columns={\"kategori\": \"labels\", \"metin\": \"text\"})\n",
        "\n",
        "# Etiketleri sayısallaştırma\n",
        "data[\"labels\"] = data[\"labels\"].astype(\"category\")\n",
        "label_map = dict(enumerate(data[\"labels\"].cat.categories))\n",
        "data[\"labels\"] = data[\"labels\"].cat.codes\n",
        "\n",
        "# Metin verisini TfidfVectorizer ile dönüştürme\n",
        "tfidf = TfidfVectorizer(max_features=5000)\n",
        "X_tfidf = tfidf.fit_transform(data[\"text\"]).toarray()\n",
        "y = data[\"labels\"]\n",
        "\n",
        "# SMOTE ile veri dengesini artırma\n",
        "smote = SMOTE(random_state=42)\n",
        "X_resampled, y_resampled = smote.fit_resample(X_tfidf, y)\n",
        "\n",
        "# Resampled veriyi DataFrame olarak oluşturma\n",
        "resampled_data = pd.DataFrame(X_resampled, columns=[f\"feature_{i}\" for i in range(X_resampled.shape[1])])\n",
        "resampled_data[\"labels\"] = y_resampled\n",
        "\n",
        "# Veriyi train ve test olarak ayırma\n",
        "train_df, test_df = train_test_split(resampled_data, test_size=0.2, random_state=42)\n",
        "\n",
        "# ALBERT modeli için metin ve etiketleri geri yükleme\n",
        "train_texts = tfidf.inverse_transform(train_df.drop(columns=[\"labels\"]).values)\n",
        "train_labels = train_df[\"labels\"].values\n",
        "test_texts = tfidf.inverse_transform(test_df.drop(columns=[\"labels\"]).values)\n",
        "test_labels = test_df[\"labels\"].values\n",
        "\n",
        "train_df = pd.DataFrame({\"text\": [\" \".join(text) for text in train_texts], \"labels\": train_labels})\n",
        "test_df = pd.DataFrame({\"text\": [\" \".join(text) for text in test_texts], \"labels\": test_labels})\n",
        "\n",
        "# ALBERT modeli oluşturma\n",
        "model = ClassificationModel(\n",
        "    \"albert\", \"albert-base-v2\",\n",
        "    num_labels=len(data[\"labels\"].unique()),\n",
        "    args={\n",
        "        \"reprocess_input_data\": True,\n",
        "        \"overwrite_output_dir\": True,\n",
        "        \"num_train_epochs\": 5,  # Daha fazla epoch\n",
        "        \"learning_rate\": 2e-5,  # Daha iyi öğrenme oranı\n",
        "        \"train_batch_size\": 16,\n",
        "        \"eval_batch_size\": 16,\n",
        "        \"max_seq_length\": 128,\n",
        "        \"output_dir\": \"outputs/\",\n",
        "        \"save_steps\": -1,\n",
        "    },\n",
        "    use_cuda=False  # CUDA desteği varsa True yapabilirsiniz\n",
        ")\n",
        "\n",
        "# Modeli eğitme\n",
        "model.train_model(train_df)\n",
        "\n",
        "# Modeli değerlendirme\n",
        "result, model_outputs, wrong_predictions = model.eval_model(test_df, acc=accuracy_score)\n",
        "\n",
        "# Performans raporu\n",
        "print(\"Accuracy:\", result[\"acc\"])\n",
        "y_pred = [model_outputs[i].argmax() for i in range(len(model_outputs))]\n",
        "y_true = test_df[\"labels\"].tolist()\n",
        "print(classification_report(y_true, y_pred))\n",
        "\n",
        "# Gradio arayüzü\n",
        "\n",
        "def classify_text(input_text):\n",
        "    predictions, _ = model.predict([input_text])\n",
        "    return label_map[predictions[0]]\n",
        "\n",
        "interface = gr.Interface(\n",
        "    fn=classify_text,\n",
        "    inputs=gr.Textbox(lines=5, placeholder=\"Metni buraya yazın...\"),\n",
        "    outputs=\"text\",\n",
        "    title=\"Haber Sınıflandırıcı\",\n",
        "    description=\"Bir metin girin ve sınıflandırmasını öğrenin.\"\n",
        ")\n",
        "\n",
        "interface.launch()"
      ],
      "metadata": {
        "id": "1vNuSMrEbftc"
      },
      "execution_count": null,
      "outputs": []
    }
  ]
}